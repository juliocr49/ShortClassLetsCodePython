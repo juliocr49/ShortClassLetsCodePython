{
 "cells": [
  {
   "cell_type": "code",
   "execution_count": 38,
   "id": "1bb62322",
   "metadata": {},
   "outputs": [
    {
     "name": "stdout",
     "output_type": "stream",
     "text": [
      "Digite uma Idade entre 0 e 150 Anos: 10\n",
      "10\n",
      "Idade está entre 0 e 150 Anos!\n",
      "Digite um Salário Maior do que 0: 2000\n",
      "O Salário é Maior que 0!\n",
      "2000.0\n",
      "Digite seu sexo (M), (F) ou Outro: F\n",
      "F\n",
      "Informação Correta! Você é do Sexo Feminino\n"
     ]
    }
   ],
   "source": [
    "#Faça um programa que leia a validade das informações:\n",
    "#a. Idade: entre 0 e 150;\n",
    "#b. Salário: maior que 0;\n",
    "#c. Sexo: M, F ou Outro;\n",
    "#O programa deve imprimir uma mensagem de erro para cada informação \n",
    "#inválida.\n",
    "\n",
    "idade = input(\"Digite uma Idade entre 0 e 150 Anos: \")\n",
    "idade = int(idade)\n",
    "print(idade)\n",
    "\n",
    "if idade >= 0:\n",
    "    if idade <= 150:\n",
    "        print(\"Idade está entre 0 e 150 Anos!\")\n",
    "    else:\n",
    "        print(\"O Valor Digitado é Inválido!\")       \n",
    "\n",
    "salario = input(\"Digite um Salário Maior do que 0: \")\n",
    "salario = float(salario)\n",
    "\n",
    "if salario > 0:\n",
    "    print(\"O Salário é Maior que 0!\")\n",
    "else:\n",
    "    print(\"O Valor digitado é inválido\")\n",
    "        \n",
    "print(salario)\n",
    "\n",
    "sexo = input(\"Digite seu sexo (M), (F) ou Outro: \")\n",
    "print(sexo)\n",
    "\n",
    "if sexo == \"M\":\n",
    "    print(\"Informação Correta! Você é do Sexo MASCULINO\")\n",
    "elif sexo == \"F\":\n",
    "    print(\"Informação Correta! Você é do Sexo Feminino\")\n",
    "elif sexo == \"Outros\":\n",
    "    print(\"Informação Correta! Você é de outro Gênero\")\n",
    "else:\n",
    "    print(\"Valor Incorreto\")\n",
    "\n"
   ]
  },
  {
   "cell_type": "code",
   "execution_count": null,
   "id": "fac1b938",
   "metadata": {},
   "outputs": [],
   "source": []
  }
 ],
 "metadata": {
  "kernelspec": {
   "display_name": "Python 3 (ipykernel)",
   "language": "python",
   "name": "python3"
  },
  "language_info": {
   "codemirror_mode": {
    "name": "ipython",
    "version": 3
   },
   "file_extension": ".py",
   "mimetype": "text/x-python",
   "name": "python",
   "nbconvert_exporter": "python",
   "pygments_lexer": "ipython3",
   "version": "3.10.1"
  }
 },
 "nbformat": 4,
 "nbformat_minor": 5
}
