{
 "cells": [
  {
   "cell_type": "code",
   "execution_count": 22,
   "id": "feff9a1a",
   "metadata": {},
   "outputs": [
    {
     "name": "stdout",
     "output_type": "stream",
     "text": [
      "Digite um Valor Monetário: 1000\n",
      "Digite o Valor do Desconto em %: 15\n",
      "O Valor Total com Desconto é: 850.0\n"
     ]
    }
   ],
   "source": [
    "valor_compra = input('Digite um Valor Monetário: ')\n",
    "valor_compra = (float(valor_compra))\n",
    "\n",
    "valor_desconto = input('Digite o Valor do Desconto em %: ')\n",
    "valor_desconto = (float(valor_desconto))\n",
    "valor_desconto = (valor_compra * valor_desconto) / 100\n",
    "\n",
    "valor_total = valor_compra - valor_desconto\n",
    "valor_total = (float(valor_total))\n",
    "\n",
    "print('O Valor Total com Desconto é:', valor_total)"
   ]
  },
  {
   "cell_type": "code",
   "execution_count": null,
   "id": "15e2efcc",
   "metadata": {},
   "outputs": [],
   "source": []
  }
 ],
 "metadata": {
  "kernelspec": {
   "display_name": "Python 3 (ipykernel)",
   "language": "python",
   "name": "python3"
  },
  "language_info": {
   "codemirror_mode": {
    "name": "ipython",
    "version": 3
   },
   "file_extension": ".py",
   "mimetype": "text/x-python",
   "name": "python",
   "nbconvert_exporter": "python",
   "pygments_lexer": "ipython3",
   "version": "3.10.1"
  }
 },
 "nbformat": 4,
 "nbformat_minor": 5
}
